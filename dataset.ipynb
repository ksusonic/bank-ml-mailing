{
 "cells": [
  {
   "cell_type": "code",
   "execution_count": 40,
   "id": "initial_id",
   "metadata": {
    "collapsed": true,
    "ExecuteTime": {
     "end_time": "2023-12-09T12:29:34.137178Z",
     "start_time": "2023-12-09T12:29:34.127741Z"
    }
   },
   "outputs": [],
   "source": [
    "import os\n",
    "\n",
    "import pandas as pd"
   ]
  },
  {
   "cell_type": "code",
   "execution_count": 74,
   "outputs": [
    {
     "name": "stdout",
     "output_type": "stream",
     "text": [
      "D_loan = pd.read_csv('data/D_loan.csv')\n",
      "D_clients = pd.read_csv('data/D_clients.csv')\n",
      "D_last_credit = pd.read_csv('data/D_last_credit.csv')\n",
      "D_pens = pd.read_csv('data/D_pens.csv')\n",
      "D_salary = pd.read_csv('data/D_salary.csv')\n",
      "D_target = pd.read_csv('data/D_target.csv')\n",
      "D_work = pd.read_csv('data/D_work.csv')\n",
      "D_job = pd.read_csv('data/D_job.csv')\n",
      "D_close_loan = pd.read_csv('data/D_close_loan.csv')\n"
     ]
    }
   ],
   "source": [
    "# codegen \n",
    "for df_name in os.listdir('data'):\n",
    "    print(f\"{df_name[:-4]} = pd.read_csv('data/{df_name}')\")"
   ],
   "metadata": {
    "collapsed": false,
    "ExecuteTime": {
     "end_time": "2023-12-09T13:31:43.873825Z",
     "start_time": "2023-12-09T13:31:43.864435Z"
    }
   },
   "id": "e3a56ae170fec3f3"
  },
  {
   "cell_type": "code",
   "execution_count": 25,
   "outputs": [],
   "source": [
    "D_loan = pd.read_csv('data/D_loan.csv')\n",
    "D_clients = pd.read_csv('data/D_clients.csv')\n",
    "D_last_credit = pd.read_csv('data/D_last_credit.csv')\n",
    "D_pens = pd.read_csv('data/D_pens.csv')\n",
    "D_salary = pd.read_csv('data/D_salary.csv')\n",
    "D_target = pd.read_csv('data/D_target.csv')\n",
    "D_work = pd.read_csv('data/D_work.csv')\n",
    "D_job = pd.read_csv('data/D_job.csv')\n",
    "D_close_loan = pd.read_csv('data/D_close_loan.csv')"
   ],
   "metadata": {
    "collapsed": false,
    "ExecuteTime": {
     "end_time": "2023-12-09T12:22:13.437329Z",
     "start_time": "2023-12-09T12:22:13.285541Z"
    }
   },
   "id": "e44f50ec45febe65"
  },
  {
   "cell_type": "code",
   "execution_count": 57,
   "outputs": [
    {
     "data": {
      "text/plain": "              ID  AGE  GENDER            EDUCATION      MARITAL_STATUS  \\\n0      106805103   42       1              Среднее  Не состоял в браке   \n1      106809308   28       1  Среднее специальное      Состою в браке   \n2      106805867   64       0  Среднее специальное      Состою в браке   \n3      106808779   54       1  Среднее специальное      Состою в браке   \n4      106814289   26       0  Среднее специальное      Состою в браке   \n...          ...  ...     ...                  ...                 ...   \n15995  106814680   26       1              Среднее  Не состоял в браке   \n15996  106812464   26       0  Среднее специальное      Состою в браке   \n15997  106809255   30       1  Среднее специальное  Не состоял в браке   \n15998  106814593   25       0  Среднее специальное      Состою в браке   \n15999  106813640   26       1               Высшее  Не состоял в браке   \n\n       CHILD_TOTAL  DEPENDANTS  SOCSTATUS_WORK_FL  SOCSTATUS_PENS_FL  \\\n0                1           0                  1                  0   \n1                1           1                  1                  0   \n2                2           0                  1                  1   \n3                0           0                  1                  0   \n4                1           1                  1                  0   \n...            ...         ...                ...                ...   \n15995            1           1                  1                  0   \n15996            0           0                  1                  0   \n15997            0           0                  1                  0   \n15998            0           0                  1                  0   \n15999            0           0                  1                  0   \n\n        REG_ADDRESS_PROVINCE  FACT_ADDRESS_PROVINCE POSTAL_ADDRESS_PROVINCE  \\\n0         Московская область     Московская область      Московская область   \n1          Читинская область      Читинская область       Читинская область   \n2          Иркутская область      Иркутская область       Иркутская область   \n3      Новосибирская область  Новосибирская область   Новосибирская область   \n4          Красноярский край      Красноярский край       Красноярский край   \n...                      ...                    ...                     ...   \n15995                Чувашия                Чувашия                 Чувашия   \n15996                Карелия                Карелия                 Карелия   \n15997   Белгородская область   Белгородская область    Белгородская область   \n15998     Кабардино-Балкария     Кабардино-Балкария      Кабардино-Балкария   \n15999              Татарстан              Татарстан               Татарстан   \n\n       FL_PRESENCE_FL  OWN_AUTO  \n0                   1         0  \n1                   0         0  \n2                   0         1  \n3                   1         1  \n4                   1         0  \n...               ...       ...  \n15995               0         0  \n15996               0         0  \n15997               0         0  \n15998               0         0  \n15999               1         0  \n\n[16000 rows x 14 columns]",
      "text/html": "<div>\n<style scoped>\n    .dataframe tbody tr th:only-of-type {\n        vertical-align: middle;\n    }\n\n    .dataframe tbody tr th {\n        vertical-align: top;\n    }\n\n    .dataframe thead th {\n        text-align: right;\n    }\n</style>\n<table border=\"1\" class=\"dataframe\">\n  <thead>\n    <tr style=\"text-align: right;\">\n      <th></th>\n      <th>ID</th>\n      <th>AGE</th>\n      <th>GENDER</th>\n      <th>EDUCATION</th>\n      <th>MARITAL_STATUS</th>\n      <th>CHILD_TOTAL</th>\n      <th>DEPENDANTS</th>\n      <th>SOCSTATUS_WORK_FL</th>\n      <th>SOCSTATUS_PENS_FL</th>\n      <th>REG_ADDRESS_PROVINCE</th>\n      <th>FACT_ADDRESS_PROVINCE</th>\n      <th>POSTAL_ADDRESS_PROVINCE</th>\n      <th>FL_PRESENCE_FL</th>\n      <th>OWN_AUTO</th>\n    </tr>\n  </thead>\n  <tbody>\n    <tr>\n      <th>0</th>\n      <td>106805103</td>\n      <td>42</td>\n      <td>1</td>\n      <td>Среднее</td>\n      <td>Не состоял в браке</td>\n      <td>1</td>\n      <td>0</td>\n      <td>1</td>\n      <td>0</td>\n      <td>Московская область</td>\n      <td>Московская область</td>\n      <td>Московская область</td>\n      <td>1</td>\n      <td>0</td>\n    </tr>\n    <tr>\n      <th>1</th>\n      <td>106809308</td>\n      <td>28</td>\n      <td>1</td>\n      <td>Среднее специальное</td>\n      <td>Состою в браке</td>\n      <td>1</td>\n      <td>1</td>\n      <td>1</td>\n      <td>0</td>\n      <td>Читинская область</td>\n      <td>Читинская область</td>\n      <td>Читинская область</td>\n      <td>0</td>\n      <td>0</td>\n    </tr>\n    <tr>\n      <th>2</th>\n      <td>106805867</td>\n      <td>64</td>\n      <td>0</td>\n      <td>Среднее специальное</td>\n      <td>Состою в браке</td>\n      <td>2</td>\n      <td>0</td>\n      <td>1</td>\n      <td>1</td>\n      <td>Иркутская область</td>\n      <td>Иркутская область</td>\n      <td>Иркутская область</td>\n      <td>0</td>\n      <td>1</td>\n    </tr>\n    <tr>\n      <th>3</th>\n      <td>106808779</td>\n      <td>54</td>\n      <td>1</td>\n      <td>Среднее специальное</td>\n      <td>Состою в браке</td>\n      <td>0</td>\n      <td>0</td>\n      <td>1</td>\n      <td>0</td>\n      <td>Новосибирская область</td>\n      <td>Новосибирская область</td>\n      <td>Новосибирская область</td>\n      <td>1</td>\n      <td>1</td>\n    </tr>\n    <tr>\n      <th>4</th>\n      <td>106814289</td>\n      <td>26</td>\n      <td>0</td>\n      <td>Среднее специальное</td>\n      <td>Состою в браке</td>\n      <td>1</td>\n      <td>1</td>\n      <td>1</td>\n      <td>0</td>\n      <td>Красноярский край</td>\n      <td>Красноярский край</td>\n      <td>Красноярский край</td>\n      <td>1</td>\n      <td>0</td>\n    </tr>\n    <tr>\n      <th>...</th>\n      <td>...</td>\n      <td>...</td>\n      <td>...</td>\n      <td>...</td>\n      <td>...</td>\n      <td>...</td>\n      <td>...</td>\n      <td>...</td>\n      <td>...</td>\n      <td>...</td>\n      <td>...</td>\n      <td>...</td>\n      <td>...</td>\n      <td>...</td>\n    </tr>\n    <tr>\n      <th>15995</th>\n      <td>106814680</td>\n      <td>26</td>\n      <td>1</td>\n      <td>Среднее</td>\n      <td>Не состоял в браке</td>\n      <td>1</td>\n      <td>1</td>\n      <td>1</td>\n      <td>0</td>\n      <td>Чувашия</td>\n      <td>Чувашия</td>\n      <td>Чувашия</td>\n      <td>0</td>\n      <td>0</td>\n    </tr>\n    <tr>\n      <th>15996</th>\n      <td>106812464</td>\n      <td>26</td>\n      <td>0</td>\n      <td>Среднее специальное</td>\n      <td>Состою в браке</td>\n      <td>0</td>\n      <td>0</td>\n      <td>1</td>\n      <td>0</td>\n      <td>Карелия</td>\n      <td>Карелия</td>\n      <td>Карелия</td>\n      <td>0</td>\n      <td>0</td>\n    </tr>\n    <tr>\n      <th>15997</th>\n      <td>106809255</td>\n      <td>30</td>\n      <td>1</td>\n      <td>Среднее специальное</td>\n      <td>Не состоял в браке</td>\n      <td>0</td>\n      <td>0</td>\n      <td>1</td>\n      <td>0</td>\n      <td>Белгородская область</td>\n      <td>Белгородская область</td>\n      <td>Белгородская область</td>\n      <td>0</td>\n      <td>0</td>\n    </tr>\n    <tr>\n      <th>15998</th>\n      <td>106814593</td>\n      <td>25</td>\n      <td>0</td>\n      <td>Среднее специальное</td>\n      <td>Состою в браке</td>\n      <td>0</td>\n      <td>0</td>\n      <td>1</td>\n      <td>0</td>\n      <td>Кабардино-Балкария</td>\n      <td>Кабардино-Балкария</td>\n      <td>Кабардино-Балкария</td>\n      <td>0</td>\n      <td>0</td>\n    </tr>\n    <tr>\n      <th>15999</th>\n      <td>106813640</td>\n      <td>26</td>\n      <td>1</td>\n      <td>Высшее</td>\n      <td>Не состоял в браке</td>\n      <td>0</td>\n      <td>0</td>\n      <td>1</td>\n      <td>0</td>\n      <td>Татарстан</td>\n      <td>Татарстан</td>\n      <td>Татарстан</td>\n      <td>1</td>\n      <td>0</td>\n    </tr>\n  </tbody>\n</table>\n<p>16000 rows × 14 columns</p>\n</div>"
     },
     "execution_count": 57,
     "metadata": {},
     "output_type": "execute_result"
    }
   ],
   "source": [
    "D_clients"
   ],
   "metadata": {
    "collapsed": false,
    "ExecuteTime": {
     "end_time": "2023-12-09T12:45:52.720660Z",
     "start_time": "2023-12-09T12:45:52.694821Z"
    }
   },
   "id": "8e9b67e83c44de46"
  },
  {
   "cell_type": "code",
   "execution_count": 71,
   "outputs": [
    {
     "data": {
      "text/plain": "          ID  AGE  GENDER            EDUCATION      MARITAL_STATUS  \\\n0  106805103   42       1              Среднее  Не состоял в браке   \n1  106809308   28       1  Среднее специальное      Состою в браке   \n2  106805867   64       0  Среднее специальное      Состою в браке   \n\n   CHILD_TOTAL  DEPENDANTS  SOCSTATUS_WORK_FL  SOCSTATUS_PENS_FL  \\\n0            1           0                  1                  0   \n1            1           1                  1                  0   \n2            2           0                  1                  1   \n\n  REG_ADDRESS_PROVINCE FACT_ADDRESS_PROVINCE POSTAL_ADDRESS_PROVINCE  \\\n0   Московская область    Московская область      Московская область   \n1    Читинская область     Читинская область       Читинская область   \n2    Иркутская область     Иркутская область       Иркутская область   \n\n   FL_PRESENCE_FL  OWN_AUTO  GEN_INDUSTRY                   GEN_TITLE  \\\n0               1         0  Другие сферы        Работник сферы услуг   \n1               0         0      Торговля                  Специалист   \n2               0         1  Другие сферы  Руководитель высшего звена   \n\n                         JOB_DIR  WORK_TIME  \n0  Участие в основ. деятельности        3.0  \n1  Участие в основ. деятельности        5.0  \n2  Участие в основ. деятельности      360.0  ",
      "text/html": "<div>\n<style scoped>\n    .dataframe tbody tr th:only-of-type {\n        vertical-align: middle;\n    }\n\n    .dataframe tbody tr th {\n        vertical-align: top;\n    }\n\n    .dataframe thead th {\n        text-align: right;\n    }\n</style>\n<table border=\"1\" class=\"dataframe\">\n  <thead>\n    <tr style=\"text-align: right;\">\n      <th></th>\n      <th>ID</th>\n      <th>AGE</th>\n      <th>GENDER</th>\n      <th>EDUCATION</th>\n      <th>MARITAL_STATUS</th>\n      <th>CHILD_TOTAL</th>\n      <th>DEPENDANTS</th>\n      <th>SOCSTATUS_WORK_FL</th>\n      <th>SOCSTATUS_PENS_FL</th>\n      <th>REG_ADDRESS_PROVINCE</th>\n      <th>FACT_ADDRESS_PROVINCE</th>\n      <th>POSTAL_ADDRESS_PROVINCE</th>\n      <th>FL_PRESENCE_FL</th>\n      <th>OWN_AUTO</th>\n      <th>GEN_INDUSTRY</th>\n      <th>GEN_TITLE</th>\n      <th>JOB_DIR</th>\n      <th>WORK_TIME</th>\n    </tr>\n  </thead>\n  <tbody>\n    <tr>\n      <th>0</th>\n      <td>106805103</td>\n      <td>42</td>\n      <td>1</td>\n      <td>Среднее</td>\n      <td>Не состоял в браке</td>\n      <td>1</td>\n      <td>0</td>\n      <td>1</td>\n      <td>0</td>\n      <td>Московская область</td>\n      <td>Московская область</td>\n      <td>Московская область</td>\n      <td>1</td>\n      <td>0</td>\n      <td>Другие сферы</td>\n      <td>Работник сферы услуг</td>\n      <td>Участие в основ. деятельности</td>\n      <td>3.0</td>\n    </tr>\n    <tr>\n      <th>1</th>\n      <td>106809308</td>\n      <td>28</td>\n      <td>1</td>\n      <td>Среднее специальное</td>\n      <td>Состою в браке</td>\n      <td>1</td>\n      <td>1</td>\n      <td>1</td>\n      <td>0</td>\n      <td>Читинская область</td>\n      <td>Читинская область</td>\n      <td>Читинская область</td>\n      <td>0</td>\n      <td>0</td>\n      <td>Торговля</td>\n      <td>Специалист</td>\n      <td>Участие в основ. деятельности</td>\n      <td>5.0</td>\n    </tr>\n    <tr>\n      <th>2</th>\n      <td>106805867</td>\n      <td>64</td>\n      <td>0</td>\n      <td>Среднее специальное</td>\n      <td>Состою в браке</td>\n      <td>2</td>\n      <td>0</td>\n      <td>1</td>\n      <td>1</td>\n      <td>Иркутская область</td>\n      <td>Иркутская область</td>\n      <td>Иркутская область</td>\n      <td>0</td>\n      <td>1</td>\n      <td>Другие сферы</td>\n      <td>Руководитель высшего звена</td>\n      <td>Участие в основ. деятельности</td>\n      <td>360.0</td>\n    </tr>\n  </tbody>\n</table>\n</div>"
     },
     "execution_count": 71,
     "metadata": {},
     "output_type": "execute_result"
    }
   ],
   "source": [
    "df_1 = pd.merge(D_clients, D_job, how='left', left_on='ID', right_on='ID_CLIENT').drop('ID_CLIENT', axis=1)\n",
    "df_1.head(3)"
   ],
   "metadata": {
    "collapsed": false,
    "ExecuteTime": {
     "end_time": "2023-12-09T12:58:03.387082Z",
     "start_time": "2023-12-09T12:58:03.345909Z"
    }
   },
   "id": "cd92bb5d174aadb0"
  },
  {
   "cell_type": "code",
   "execution_count": 72,
   "outputs": [
    {
     "data": {
      "text/plain": "          ID  AGE  GENDER            EDUCATION      MARITAL_STATUS  \\\n0  106805103   42       1              Среднее  Не состоял в браке   \n1  106809308   28       1  Среднее специальное      Состою в браке   \n2  106805867   64       0  Среднее специальное      Состою в браке   \n\n   CHILD_TOTAL  DEPENDANTS  SOCSTATUS_WORK_FL  SOCSTATUS_PENS_FL  \\\n0            1           0                  1                  0   \n1            1           1                  1                  0   \n2            2           0                  1                  1   \n\n  REG_ADDRESS_PROVINCE  ... POSTAL_ADDRESS_PROVINCE FL_PRESENCE_FL  OWN_AUTO  \\\n0   Московская область  ...      Московская область              1         0   \n1    Читинская область  ...       Читинская область              0         0   \n2    Иркутская область  ...       Иркутская область              0         1   \n\n   GEN_INDUSTRY                   GEN_TITLE                        JOB_DIR  \\\n0  Другие сферы        Работник сферы услуг  Участие в основ. деятельности   \n1      Торговля                  Специалист  Участие в основ. деятельности   \n2  Другие сферы  Руководитель высшего звена  Участие в основ. деятельности   \n\n  WORK_TIME   CREDIT  TERM  FST_PAYMENT  \n0       3.0   5588.0   6.0       1000.0  \n1       5.0  19498.0  12.0          0.0  \n2     360.0  15470.0   3.0      15000.0  \n\n[3 rows x 21 columns]",
      "text/html": "<div>\n<style scoped>\n    .dataframe tbody tr th:only-of-type {\n        vertical-align: middle;\n    }\n\n    .dataframe tbody tr th {\n        vertical-align: top;\n    }\n\n    .dataframe thead th {\n        text-align: right;\n    }\n</style>\n<table border=\"1\" class=\"dataframe\">\n  <thead>\n    <tr style=\"text-align: right;\">\n      <th></th>\n      <th>ID</th>\n      <th>AGE</th>\n      <th>GENDER</th>\n      <th>EDUCATION</th>\n      <th>MARITAL_STATUS</th>\n      <th>CHILD_TOTAL</th>\n      <th>DEPENDANTS</th>\n      <th>SOCSTATUS_WORK_FL</th>\n      <th>SOCSTATUS_PENS_FL</th>\n      <th>REG_ADDRESS_PROVINCE</th>\n      <th>...</th>\n      <th>POSTAL_ADDRESS_PROVINCE</th>\n      <th>FL_PRESENCE_FL</th>\n      <th>OWN_AUTO</th>\n      <th>GEN_INDUSTRY</th>\n      <th>GEN_TITLE</th>\n      <th>JOB_DIR</th>\n      <th>WORK_TIME</th>\n      <th>CREDIT</th>\n      <th>TERM</th>\n      <th>FST_PAYMENT</th>\n    </tr>\n  </thead>\n  <tbody>\n    <tr>\n      <th>0</th>\n      <td>106805103</td>\n      <td>42</td>\n      <td>1</td>\n      <td>Среднее</td>\n      <td>Не состоял в браке</td>\n      <td>1</td>\n      <td>0</td>\n      <td>1</td>\n      <td>0</td>\n      <td>Московская область</td>\n      <td>...</td>\n      <td>Московская область</td>\n      <td>1</td>\n      <td>0</td>\n      <td>Другие сферы</td>\n      <td>Работник сферы услуг</td>\n      <td>Участие в основ. деятельности</td>\n      <td>3.0</td>\n      <td>5588.0</td>\n      <td>6.0</td>\n      <td>1000.0</td>\n    </tr>\n    <tr>\n      <th>1</th>\n      <td>106809308</td>\n      <td>28</td>\n      <td>1</td>\n      <td>Среднее специальное</td>\n      <td>Состою в браке</td>\n      <td>1</td>\n      <td>1</td>\n      <td>1</td>\n      <td>0</td>\n      <td>Читинская область</td>\n      <td>...</td>\n      <td>Читинская область</td>\n      <td>0</td>\n      <td>0</td>\n      <td>Торговля</td>\n      <td>Специалист</td>\n      <td>Участие в основ. деятельности</td>\n      <td>5.0</td>\n      <td>19498.0</td>\n      <td>12.0</td>\n      <td>0.0</td>\n    </tr>\n    <tr>\n      <th>2</th>\n      <td>106805867</td>\n      <td>64</td>\n      <td>0</td>\n      <td>Среднее специальное</td>\n      <td>Состою в браке</td>\n      <td>2</td>\n      <td>0</td>\n      <td>1</td>\n      <td>1</td>\n      <td>Иркутская область</td>\n      <td>...</td>\n      <td>Иркутская область</td>\n      <td>0</td>\n      <td>1</td>\n      <td>Другие сферы</td>\n      <td>Руководитель высшего звена</td>\n      <td>Участие в основ. деятельности</td>\n      <td>360.0</td>\n      <td>15470.0</td>\n      <td>3.0</td>\n      <td>15000.0</td>\n    </tr>\n  </tbody>\n</table>\n<p>3 rows × 21 columns</p>\n</div>"
     },
     "execution_count": 72,
     "metadata": {},
     "output_type": "execute_result"
    }
   ],
   "source": [
    "df_2 = pd.merge(df_1, D_last_credit, how='left', left_on='ID', right_on='ID_CLIENT').drop('ID_CLIENT', axis=1)\n",
    "df_2.head(3)"
   ],
   "metadata": {
    "collapsed": false,
    "ExecuteTime": {
     "end_time": "2023-12-09T12:58:03.678079Z",
     "start_time": "2023-12-09T12:58:03.636851Z"
    }
   },
   "id": "3211e8361a269b44"
  },
  {
   "cell_type": "code",
   "execution_count": 73,
   "outputs": [
    {
     "data": {
      "text/plain": "          ID  AGE  GENDER            EDUCATION      MARITAL_STATUS  \\\n0  106805103   42       1              Среднее  Не состоял в браке   \n1  106809308   28       1  Среднее специальное      Состою в браке   \n2  106805867   64       0  Среднее специальное      Состою в браке   \n\n   CHILD_TOTAL  DEPENDANTS  SOCSTATUS_WORK_FL  SOCSTATUS_PENS_FL  \\\n0            1           0                  1                  0   \n1            1           1                  1                  0   \n2            2           0                  1                  1   \n\n  REG_ADDRESS_PROVINCE  ... OWN_AUTO  GEN_INDUSTRY  \\\n0   Московская область  ...        0  Другие сферы   \n1    Читинская область  ...        0      Торговля   \n2    Иркутская область  ...        1  Другие сферы   \n\n                    GEN_TITLE                        JOB_DIR WORK_TIME  \\\n0        Работник сферы услуг  Участие в основ. деятельности       3.0   \n1                  Специалист  Участие в основ. деятельности       5.0   \n2  Руководитель высшего звена  Участие в основ. деятельности     360.0   \n\n    CREDIT  TERM  FST_PAYMENT           FAMILY_INCOME  PERSONAL_INCOME  \n0   5588.0   6.0       1000.0  от 20000 до 50000 руб.          25000.0  \n1  19498.0  12.0          0.0  от 10000 до 20000 руб.          10000.0  \n2  15470.0   3.0      15000.0  от 20000 до 50000 руб.          30000.0  \n\n[3 rows x 23 columns]",
      "text/html": "<div>\n<style scoped>\n    .dataframe tbody tr th:only-of-type {\n        vertical-align: middle;\n    }\n\n    .dataframe tbody tr th {\n        vertical-align: top;\n    }\n\n    .dataframe thead th {\n        text-align: right;\n    }\n</style>\n<table border=\"1\" class=\"dataframe\">\n  <thead>\n    <tr style=\"text-align: right;\">\n      <th></th>\n      <th>ID</th>\n      <th>AGE</th>\n      <th>GENDER</th>\n      <th>EDUCATION</th>\n      <th>MARITAL_STATUS</th>\n      <th>CHILD_TOTAL</th>\n      <th>DEPENDANTS</th>\n      <th>SOCSTATUS_WORK_FL</th>\n      <th>SOCSTATUS_PENS_FL</th>\n      <th>REG_ADDRESS_PROVINCE</th>\n      <th>...</th>\n      <th>OWN_AUTO</th>\n      <th>GEN_INDUSTRY</th>\n      <th>GEN_TITLE</th>\n      <th>JOB_DIR</th>\n      <th>WORK_TIME</th>\n      <th>CREDIT</th>\n      <th>TERM</th>\n      <th>FST_PAYMENT</th>\n      <th>FAMILY_INCOME</th>\n      <th>PERSONAL_INCOME</th>\n    </tr>\n  </thead>\n  <tbody>\n    <tr>\n      <th>0</th>\n      <td>106805103</td>\n      <td>42</td>\n      <td>1</td>\n      <td>Среднее</td>\n      <td>Не состоял в браке</td>\n      <td>1</td>\n      <td>0</td>\n      <td>1</td>\n      <td>0</td>\n      <td>Московская область</td>\n      <td>...</td>\n      <td>0</td>\n      <td>Другие сферы</td>\n      <td>Работник сферы услуг</td>\n      <td>Участие в основ. деятельности</td>\n      <td>3.0</td>\n      <td>5588.0</td>\n      <td>6.0</td>\n      <td>1000.0</td>\n      <td>от 20000 до 50000 руб.</td>\n      <td>25000.0</td>\n    </tr>\n    <tr>\n      <th>1</th>\n      <td>106809308</td>\n      <td>28</td>\n      <td>1</td>\n      <td>Среднее специальное</td>\n      <td>Состою в браке</td>\n      <td>1</td>\n      <td>1</td>\n      <td>1</td>\n      <td>0</td>\n      <td>Читинская область</td>\n      <td>...</td>\n      <td>0</td>\n      <td>Торговля</td>\n      <td>Специалист</td>\n      <td>Участие в основ. деятельности</td>\n      <td>5.0</td>\n      <td>19498.0</td>\n      <td>12.0</td>\n      <td>0.0</td>\n      <td>от 10000 до 20000 руб.</td>\n      <td>10000.0</td>\n    </tr>\n    <tr>\n      <th>2</th>\n      <td>106805867</td>\n      <td>64</td>\n      <td>0</td>\n      <td>Среднее специальное</td>\n      <td>Состою в браке</td>\n      <td>2</td>\n      <td>0</td>\n      <td>1</td>\n      <td>1</td>\n      <td>Иркутская область</td>\n      <td>...</td>\n      <td>1</td>\n      <td>Другие сферы</td>\n      <td>Руководитель высшего звена</td>\n      <td>Участие в основ. деятельности</td>\n      <td>360.0</td>\n      <td>15470.0</td>\n      <td>3.0</td>\n      <td>15000.0</td>\n      <td>от 20000 до 50000 руб.</td>\n      <td>30000.0</td>\n    </tr>\n  </tbody>\n</table>\n<p>3 rows × 23 columns</p>\n</div>"
     },
     "execution_count": 73,
     "metadata": {},
     "output_type": "execute_result"
    }
   ],
   "source": [
    "df_3 = pd.merge(df_2, D_salary, how='left', left_on='ID', right_on='ID_CLIENT').drop('ID_CLIENT', axis=1)\n",
    "df_3.head(3)"
   ],
   "metadata": {
    "collapsed": false,
    "ExecuteTime": {
     "end_time": "2023-12-09T12:59:16.664283Z",
     "start_time": "2023-12-09T12:59:16.631293Z"
    }
   },
   "id": "c72c3b50345c849b"
  },
  {
   "cell_type": "code",
   "execution_count": 76,
   "outputs": [
    {
     "data": {
      "text/plain": "          ID  AGE  GENDER            EDUCATION      MARITAL_STATUS  \\\n0  106805103   42       1              Среднее  Не состоял в браке   \n1  106809308   28       1  Среднее специальное      Состою в браке   \n2  106805867   64       0  Среднее специальное      Состою в браке   \n\n   CHILD_TOTAL  DEPENDANTS  SOCSTATUS_WORK_FL  SOCSTATUS_PENS_FL  \\\n0            1           0                  1                  0   \n1            1           1                  1                  0   \n2            2           0                  1                  1   \n\n  REG_ADDRESS_PROVINCE  ...                   GEN_TITLE  \\\n0   Московская область  ...        Работник сферы услуг   \n1    Читинская область  ...                  Специалист   \n2    Иркутская область  ...  Руководитель высшего звена   \n\n                         JOB_DIR  WORK_TIME   CREDIT  TERM FST_PAYMENT  \\\n0  Участие в основ. деятельности        3.0   5588.0   6.0      1000.0   \n1  Участие в основ. деятельности        5.0  19498.0  12.0         0.0   \n2  Участие в основ. деятельности      360.0  15470.0   3.0     15000.0   \n\n            FAMILY_INCOME  PERSONAL_INCOME  AGREEMENT_RK  TARGET  \n0  от 20000 до 50000 руб.          25000.0    60099204.0     1.0  \n1  от 10000 до 20000 руб.          10000.0    62244665.0     0.0  \n2  от 20000 до 50000 руб.          30000.0    61050759.0     0.0  \n\n[3 rows x 25 columns]",
      "text/html": "<div>\n<style scoped>\n    .dataframe tbody tr th:only-of-type {\n        vertical-align: middle;\n    }\n\n    .dataframe tbody tr th {\n        vertical-align: top;\n    }\n\n    .dataframe thead th {\n        text-align: right;\n    }\n</style>\n<table border=\"1\" class=\"dataframe\">\n  <thead>\n    <tr style=\"text-align: right;\">\n      <th></th>\n      <th>ID</th>\n      <th>AGE</th>\n      <th>GENDER</th>\n      <th>EDUCATION</th>\n      <th>MARITAL_STATUS</th>\n      <th>CHILD_TOTAL</th>\n      <th>DEPENDANTS</th>\n      <th>SOCSTATUS_WORK_FL</th>\n      <th>SOCSTATUS_PENS_FL</th>\n      <th>REG_ADDRESS_PROVINCE</th>\n      <th>...</th>\n      <th>GEN_TITLE</th>\n      <th>JOB_DIR</th>\n      <th>WORK_TIME</th>\n      <th>CREDIT</th>\n      <th>TERM</th>\n      <th>FST_PAYMENT</th>\n      <th>FAMILY_INCOME</th>\n      <th>PERSONAL_INCOME</th>\n      <th>AGREEMENT_RK</th>\n      <th>TARGET</th>\n    </tr>\n  </thead>\n  <tbody>\n    <tr>\n      <th>0</th>\n      <td>106805103</td>\n      <td>42</td>\n      <td>1</td>\n      <td>Среднее</td>\n      <td>Не состоял в браке</td>\n      <td>1</td>\n      <td>0</td>\n      <td>1</td>\n      <td>0</td>\n      <td>Московская область</td>\n      <td>...</td>\n      <td>Работник сферы услуг</td>\n      <td>Участие в основ. деятельности</td>\n      <td>3.0</td>\n      <td>5588.0</td>\n      <td>6.0</td>\n      <td>1000.0</td>\n      <td>от 20000 до 50000 руб.</td>\n      <td>25000.0</td>\n      <td>60099204.0</td>\n      <td>1.0</td>\n    </tr>\n    <tr>\n      <th>1</th>\n      <td>106809308</td>\n      <td>28</td>\n      <td>1</td>\n      <td>Среднее специальное</td>\n      <td>Состою в браке</td>\n      <td>1</td>\n      <td>1</td>\n      <td>1</td>\n      <td>0</td>\n      <td>Читинская область</td>\n      <td>...</td>\n      <td>Специалист</td>\n      <td>Участие в основ. деятельности</td>\n      <td>5.0</td>\n      <td>19498.0</td>\n      <td>12.0</td>\n      <td>0.0</td>\n      <td>от 10000 до 20000 руб.</td>\n      <td>10000.0</td>\n      <td>62244665.0</td>\n      <td>0.0</td>\n    </tr>\n    <tr>\n      <th>2</th>\n      <td>106805867</td>\n      <td>64</td>\n      <td>0</td>\n      <td>Среднее специальное</td>\n      <td>Состою в браке</td>\n      <td>2</td>\n      <td>0</td>\n      <td>1</td>\n      <td>1</td>\n      <td>Иркутская область</td>\n      <td>...</td>\n      <td>Руководитель высшего звена</td>\n      <td>Участие в основ. деятельности</td>\n      <td>360.0</td>\n      <td>15470.0</td>\n      <td>3.0</td>\n      <td>15000.0</td>\n      <td>от 20000 до 50000 руб.</td>\n      <td>30000.0</td>\n      <td>61050759.0</td>\n      <td>0.0</td>\n    </tr>\n  </tbody>\n</table>\n<p>3 rows × 25 columns</p>\n</div>"
     },
     "execution_count": 76,
     "metadata": {},
     "output_type": "execute_result"
    }
   ],
   "source": [
    "df_4 = pd.merge(df_3, D_target, how='left', left_on='ID', right_on='ID_CLIENT').drop('ID_CLIENT', axis=1)\n",
    "df_4.head(3)"
   ],
   "metadata": {
    "collapsed": false,
    "ExecuteTime": {
     "end_time": "2023-12-09T13:35:18.499787Z",
     "start_time": "2023-12-09T13:35:18.468206Z"
    }
   },
   "id": "377ae5a816bb26"
  },
  {
   "cell_type": "code",
   "execution_count": 102,
   "outputs": [
    {
     "data": {
      "text/plain": "              ID  AGE  GENDER            EDUCATION      MARITAL_STATUS  \\\n0      106805103   42       1              Среднее  Не состоял в браке   \n1      106809308   28       1  Среднее специальное      Состою в браке   \n2      106805867   64       0  Среднее специальное      Состою в браке   \n3      106808779   54       1  Среднее специальное      Состою в браке   \n4      106814289   26       0  Среднее специальное      Состою в браке   \n...          ...  ...     ...                  ...                 ...   \n16295  106814680   26       1              Среднее  Не состоял в браке   \n16296  106812464   26       0  Среднее специальное      Состою в браке   \n16297  106809255   30       1  Среднее специальное  Не состоял в браке   \n16298  106814593   25       0  Среднее специальное      Состою в браке   \n16299  106813640   26       1               Высшее  Не состоял в браке   \n\n       CHILD_TOTAL  DEPENDANTS  SOCSTATUS_WORK_FL  SOCSTATUS_PENS_FL  \\\n0                1           0                  1                  0   \n1                1           1                  1                  0   \n2                2           0                  1                  1   \n3                0           0                  1                  0   \n4                1           1                  1                  0   \n...            ...         ...                ...                ...   \n16295            1           1                  1                  0   \n16296            0           0                  1                  0   \n16297            0           0                  1                  0   \n16298            0           0                  1                  0   \n16299            0           0                  1                  0   \n\n        REG_ADDRESS_PROVINCE  ...                        JOB_DIR WORK_TIME  \\\n0         Московская область  ...  Участие в основ. деятельности       3.0   \n1          Читинская область  ...  Участие в основ. деятельности       5.0   \n2          Иркутская область  ...  Участие в основ. деятельности     360.0   \n3      Новосибирская область  ...  Участие в основ. деятельности       3.0   \n4          Красноярский край  ...  Участие в основ. деятельности      12.0   \n...                      ...  ...                            ...       ...   \n16295                Чувашия  ...  Участие в основ. деятельности      36.0   \n16296                Карелия  ...  Участие в основ. деятельности      24.0   \n16297   Белгородская область  ...  Участие в основ. деятельности      36.0   \n16298     Кабардино-Балкария  ...  Участие в основ. деятельности      36.0   \n16299              Татарстан  ...    Вспомогательный техперсонал      12.0   \n\n        CREDIT  TERM FST_PAYMENT           FAMILY_INCOME PERSONAL_INCOME  \\\n0       5588.0   6.0      1000.0  от 20000 до 50000 руб.         25000.0   \n1      19498.0  12.0         0.0  от 10000 до 20000 руб.         10000.0   \n2      15470.0   3.0     15000.0  от 20000 до 50000 руб.         30000.0   \n3      13960.0   6.0      2500.0  от 20000 до 50000 руб.         25000.0   \n4      11890.0   6.0      8000.0  от 10000 до 20000 руб.         15000.0   \n...        ...   ...         ...                     ...             ...   \n16295  11750.0   4.0      1900.0   от 5000 до 10000 руб.          8000.0   \n16296  12350.0   6.0      1380.0  от 20000 до 50000 руб.         12000.0   \n16297   4915.0  10.0      2000.0   от 5000 до 10000 руб.          9000.0   \n16298   5860.0   3.0      2000.0  от 10000 до 20000 руб.         12000.0   \n16299  15700.0   6.0      3000.0  от 10000 до 20000 руб.         10500.0   \n\n       AGREEMENT_RK  TARGET  LOAN_NUM_TOTAL  \n0        60099204.0     1.0             1.0  \n1        62244665.0     0.0             1.0  \n2        61050759.0     0.0             1.0  \n3        62079659.0     0.0             1.0  \n4        66583553.0     0.0             2.0  \n...             ...     ...             ...  \n16295    66751099.0     0.0             2.0  \n16296    64562377.0     0.0             1.0  \n16297    62236542.0     0.0             1.0  \n16298    66739926.0     0.0             1.0  \n16299    66077514.0     0.0             1.0  \n\n[16300 rows x 26 columns]",
      "text/html": "<div>\n<style scoped>\n    .dataframe tbody tr th:only-of-type {\n        vertical-align: middle;\n    }\n\n    .dataframe tbody tr th {\n        vertical-align: top;\n    }\n\n    .dataframe thead th {\n        text-align: right;\n    }\n</style>\n<table border=\"1\" class=\"dataframe\">\n  <thead>\n    <tr style=\"text-align: right;\">\n      <th></th>\n      <th>ID</th>\n      <th>AGE</th>\n      <th>GENDER</th>\n      <th>EDUCATION</th>\n      <th>MARITAL_STATUS</th>\n      <th>CHILD_TOTAL</th>\n      <th>DEPENDANTS</th>\n      <th>SOCSTATUS_WORK_FL</th>\n      <th>SOCSTATUS_PENS_FL</th>\n      <th>REG_ADDRESS_PROVINCE</th>\n      <th>...</th>\n      <th>JOB_DIR</th>\n      <th>WORK_TIME</th>\n      <th>CREDIT</th>\n      <th>TERM</th>\n      <th>FST_PAYMENT</th>\n      <th>FAMILY_INCOME</th>\n      <th>PERSONAL_INCOME</th>\n      <th>AGREEMENT_RK</th>\n      <th>TARGET</th>\n      <th>LOAN_NUM_TOTAL</th>\n    </tr>\n  </thead>\n  <tbody>\n    <tr>\n      <th>0</th>\n      <td>106805103</td>\n      <td>42</td>\n      <td>1</td>\n      <td>Среднее</td>\n      <td>Не состоял в браке</td>\n      <td>1</td>\n      <td>0</td>\n      <td>1</td>\n      <td>0</td>\n      <td>Московская область</td>\n      <td>...</td>\n      <td>Участие в основ. деятельности</td>\n      <td>3.0</td>\n      <td>5588.0</td>\n      <td>6.0</td>\n      <td>1000.0</td>\n      <td>от 20000 до 50000 руб.</td>\n      <td>25000.0</td>\n      <td>60099204.0</td>\n      <td>1.0</td>\n      <td>1.0</td>\n    </tr>\n    <tr>\n      <th>1</th>\n      <td>106809308</td>\n      <td>28</td>\n      <td>1</td>\n      <td>Среднее специальное</td>\n      <td>Состою в браке</td>\n      <td>1</td>\n      <td>1</td>\n      <td>1</td>\n      <td>0</td>\n      <td>Читинская область</td>\n      <td>...</td>\n      <td>Участие в основ. деятельности</td>\n      <td>5.0</td>\n      <td>19498.0</td>\n      <td>12.0</td>\n      <td>0.0</td>\n      <td>от 10000 до 20000 руб.</td>\n      <td>10000.0</td>\n      <td>62244665.0</td>\n      <td>0.0</td>\n      <td>1.0</td>\n    </tr>\n    <tr>\n      <th>2</th>\n      <td>106805867</td>\n      <td>64</td>\n      <td>0</td>\n      <td>Среднее специальное</td>\n      <td>Состою в браке</td>\n      <td>2</td>\n      <td>0</td>\n      <td>1</td>\n      <td>1</td>\n      <td>Иркутская область</td>\n      <td>...</td>\n      <td>Участие в основ. деятельности</td>\n      <td>360.0</td>\n      <td>15470.0</td>\n      <td>3.0</td>\n      <td>15000.0</td>\n      <td>от 20000 до 50000 руб.</td>\n      <td>30000.0</td>\n      <td>61050759.0</td>\n      <td>0.0</td>\n      <td>1.0</td>\n    </tr>\n    <tr>\n      <th>3</th>\n      <td>106808779</td>\n      <td>54</td>\n      <td>1</td>\n      <td>Среднее специальное</td>\n      <td>Состою в браке</td>\n      <td>0</td>\n      <td>0</td>\n      <td>1</td>\n      <td>0</td>\n      <td>Новосибирская область</td>\n      <td>...</td>\n      <td>Участие в основ. деятельности</td>\n      <td>3.0</td>\n      <td>13960.0</td>\n      <td>6.0</td>\n      <td>2500.0</td>\n      <td>от 20000 до 50000 руб.</td>\n      <td>25000.0</td>\n      <td>62079659.0</td>\n      <td>0.0</td>\n      <td>1.0</td>\n    </tr>\n    <tr>\n      <th>4</th>\n      <td>106814289</td>\n      <td>26</td>\n      <td>0</td>\n      <td>Среднее специальное</td>\n      <td>Состою в браке</td>\n      <td>1</td>\n      <td>1</td>\n      <td>1</td>\n      <td>0</td>\n      <td>Красноярский край</td>\n      <td>...</td>\n      <td>Участие в основ. деятельности</td>\n      <td>12.0</td>\n      <td>11890.0</td>\n      <td>6.0</td>\n      <td>8000.0</td>\n      <td>от 10000 до 20000 руб.</td>\n      <td>15000.0</td>\n      <td>66583553.0</td>\n      <td>0.0</td>\n      <td>2.0</td>\n    </tr>\n    <tr>\n      <th>...</th>\n      <td>...</td>\n      <td>...</td>\n      <td>...</td>\n      <td>...</td>\n      <td>...</td>\n      <td>...</td>\n      <td>...</td>\n      <td>...</td>\n      <td>...</td>\n      <td>...</td>\n      <td>...</td>\n      <td>...</td>\n      <td>...</td>\n      <td>...</td>\n      <td>...</td>\n      <td>...</td>\n      <td>...</td>\n      <td>...</td>\n      <td>...</td>\n      <td>...</td>\n      <td>...</td>\n    </tr>\n    <tr>\n      <th>16295</th>\n      <td>106814680</td>\n      <td>26</td>\n      <td>1</td>\n      <td>Среднее</td>\n      <td>Не состоял в браке</td>\n      <td>1</td>\n      <td>1</td>\n      <td>1</td>\n      <td>0</td>\n      <td>Чувашия</td>\n      <td>...</td>\n      <td>Участие в основ. деятельности</td>\n      <td>36.0</td>\n      <td>11750.0</td>\n      <td>4.0</td>\n      <td>1900.0</td>\n      <td>от 5000 до 10000 руб.</td>\n      <td>8000.0</td>\n      <td>66751099.0</td>\n      <td>0.0</td>\n      <td>2.0</td>\n    </tr>\n    <tr>\n      <th>16296</th>\n      <td>106812464</td>\n      <td>26</td>\n      <td>0</td>\n      <td>Среднее специальное</td>\n      <td>Состою в браке</td>\n      <td>0</td>\n      <td>0</td>\n      <td>1</td>\n      <td>0</td>\n      <td>Карелия</td>\n      <td>...</td>\n      <td>Участие в основ. деятельности</td>\n      <td>24.0</td>\n      <td>12350.0</td>\n      <td>6.0</td>\n      <td>1380.0</td>\n      <td>от 20000 до 50000 руб.</td>\n      <td>12000.0</td>\n      <td>64562377.0</td>\n      <td>0.0</td>\n      <td>1.0</td>\n    </tr>\n    <tr>\n      <th>16297</th>\n      <td>106809255</td>\n      <td>30</td>\n      <td>1</td>\n      <td>Среднее специальное</td>\n      <td>Не состоял в браке</td>\n      <td>0</td>\n      <td>0</td>\n      <td>1</td>\n      <td>0</td>\n      <td>Белгородская область</td>\n      <td>...</td>\n      <td>Участие в основ. деятельности</td>\n      <td>36.0</td>\n      <td>4915.0</td>\n      <td>10.0</td>\n      <td>2000.0</td>\n      <td>от 5000 до 10000 руб.</td>\n      <td>9000.0</td>\n      <td>62236542.0</td>\n      <td>0.0</td>\n      <td>1.0</td>\n    </tr>\n    <tr>\n      <th>16298</th>\n      <td>106814593</td>\n      <td>25</td>\n      <td>0</td>\n      <td>Среднее специальное</td>\n      <td>Состою в браке</td>\n      <td>0</td>\n      <td>0</td>\n      <td>1</td>\n      <td>0</td>\n      <td>Кабардино-Балкария</td>\n      <td>...</td>\n      <td>Участие в основ. деятельности</td>\n      <td>36.0</td>\n      <td>5860.0</td>\n      <td>3.0</td>\n      <td>2000.0</td>\n      <td>от 10000 до 20000 руб.</td>\n      <td>12000.0</td>\n      <td>66739926.0</td>\n      <td>0.0</td>\n      <td>1.0</td>\n    </tr>\n    <tr>\n      <th>16299</th>\n      <td>106813640</td>\n      <td>26</td>\n      <td>1</td>\n      <td>Высшее</td>\n      <td>Не состоял в браке</td>\n      <td>0</td>\n      <td>0</td>\n      <td>1</td>\n      <td>0</td>\n      <td>Татарстан</td>\n      <td>...</td>\n      <td>Вспомогательный техперсонал</td>\n      <td>12.0</td>\n      <td>15700.0</td>\n      <td>6.0</td>\n      <td>3000.0</td>\n      <td>от 10000 до 20000 руб.</td>\n      <td>10500.0</td>\n      <td>66077514.0</td>\n      <td>0.0</td>\n      <td>1.0</td>\n    </tr>\n  </tbody>\n</table>\n<p>16300 rows × 26 columns</p>\n</div>"
     },
     "execution_count": 102,
     "metadata": {},
     "output_type": "execute_result"
    }
   ],
   "source": [
    "df_5 = pd.merge(\n",
    "    df_4,\n",
    "    D_loan.groupby(by='ID_CLIENT').count().rename(columns={'ID_LOAN': 'LOAN_NUM_TOTAL'}),\n",
    "    how='left', left_on='ID', right_index=True\n",
    ")\n",
    "df_5"
   ],
   "metadata": {
    "collapsed": false,
    "ExecuteTime": {
     "end_time": "2023-12-09T13:51:39.011616Z",
     "start_time": "2023-12-09T13:51:38.969864Z"
    }
   },
   "id": "37966b2517a1acce"
  },
  {
   "cell_type": "code",
   "execution_count": 123,
   "outputs": [
    {
     "data": {
      "text/plain": "           LOAN_NUM_TOTAL  LOAN_NUM_CLOSED\nID_CLIENT                                 \n106804370               1                1\n106804371               1                1\n106804372               2                2\n106804373               1                1\n106804374               2                2\n...                   ...              ...\n106819588               3                3\n106819589               1                1\n106819590               1                1\n106819591               1                1\n106819592               1                1\n\n[15223 rows x 2 columns]",
      "text/html": "<div>\n<style scoped>\n    .dataframe tbody tr th:only-of-type {\n        vertical-align: middle;\n    }\n\n    .dataframe tbody tr th {\n        vertical-align: top;\n    }\n\n    .dataframe thead th {\n        text-align: right;\n    }\n</style>\n<table border=\"1\" class=\"dataframe\">\n  <thead>\n    <tr style=\"text-align: right;\">\n      <th></th>\n      <th>LOAN_NUM_TOTAL</th>\n      <th>LOAN_NUM_CLOSED</th>\n    </tr>\n    <tr>\n      <th>ID_CLIENT</th>\n      <th></th>\n      <th></th>\n    </tr>\n  </thead>\n  <tbody>\n    <tr>\n      <th>106804370</th>\n      <td>1</td>\n      <td>1</td>\n    </tr>\n    <tr>\n      <th>106804371</th>\n      <td>1</td>\n      <td>1</td>\n    </tr>\n    <tr>\n      <th>106804372</th>\n      <td>2</td>\n      <td>2</td>\n    </tr>\n    <tr>\n      <th>106804373</th>\n      <td>1</td>\n      <td>1</td>\n    </tr>\n    <tr>\n      <th>106804374</th>\n      <td>2</td>\n      <td>2</td>\n    </tr>\n    <tr>\n      <th>...</th>\n      <td>...</td>\n      <td>...</td>\n    </tr>\n    <tr>\n      <th>106819588</th>\n      <td>3</td>\n      <td>3</td>\n    </tr>\n    <tr>\n      <th>106819589</th>\n      <td>1</td>\n      <td>1</td>\n    </tr>\n    <tr>\n      <th>106819590</th>\n      <td>1</td>\n      <td>1</td>\n    </tr>\n    <tr>\n      <th>106819591</th>\n      <td>1</td>\n      <td>1</td>\n    </tr>\n    <tr>\n      <th>106819592</th>\n      <td>1</td>\n      <td>1</td>\n    </tr>\n  </tbody>\n</table>\n<p>15223 rows × 2 columns</p>\n</div>"
     },
     "execution_count": 123,
     "metadata": {},
     "output_type": "execute_result"
    }
   ],
   "source": [
    "loans_aggregated = (\n",
    "    pd.merge(D_loan, D_close_loan, how='left', on='ID_LOAN')\n",
    "    .groupby(by='ID_CLIENT')\n",
    "    .count()\n",
    "    .rename(columns={'ID_LOAN': 'LOAN_NUM_TOTAL', 'CLOSED_FL': 'LOAN_NUM_CLOSED'})\n",
    ")\n",
    "loans_aggregated"
   ],
   "metadata": {
    "collapsed": false,
    "ExecuteTime": {
     "end_time": "2023-12-09T14:00:08.696757Z",
     "start_time": "2023-12-09T14:00:08.682872Z"
    }
   },
   "id": "e069a44ee179851d"
  },
  {
   "cell_type": "code",
   "execution_count": 124,
   "outputs": [
    {
     "data": {
      "text/plain": "              ID  AGE  GENDER            EDUCATION      MARITAL_STATUS  \\\n0      106805103   42       1              Среднее  Не состоял в браке   \n1      106809308   28       1  Среднее специальное      Состою в браке   \n2      106805867   64       0  Среднее специальное      Состою в браке   \n3      106808779   54       1  Среднее специальное      Состою в браке   \n4      106814289   26       0  Среднее специальное      Состою в браке   \n...          ...  ...     ...                  ...                 ...   \n16295  106814680   26       1              Среднее  Не состоял в браке   \n16296  106812464   26       0  Среднее специальное      Состою в браке   \n16297  106809255   30       1  Среднее специальное  Не состоял в браке   \n16298  106814593   25       0  Среднее специальное      Состою в браке   \n16299  106813640   26       1               Высшее  Не состоял в браке   \n\n       CHILD_TOTAL  DEPENDANTS  SOCSTATUS_WORK_FL  SOCSTATUS_PENS_FL  \\\n0                1           0                  1                  0   \n1                1           1                  1                  0   \n2                2           0                  1                  1   \n3                0           0                  1                  0   \n4                1           1                  1                  0   \n...            ...         ...                ...                ...   \n16295            1           1                  1                  0   \n16296            0           0                  1                  0   \n16297            0           0                  1                  0   \n16298            0           0                  1                  0   \n16299            0           0                  1                  0   \n\n        REG_ADDRESS_PROVINCE  ...   CREDIT  TERM  FST_PAYMENT  \\\n0         Московская область  ...   5588.0   6.0       1000.0   \n1          Читинская область  ...  19498.0  12.0          0.0   \n2          Иркутская область  ...  15470.0   3.0      15000.0   \n3      Новосибирская область  ...  13960.0   6.0       2500.0   \n4          Красноярский край  ...  11890.0   6.0       8000.0   \n...                      ...  ...      ...   ...          ...   \n16295                Чувашия  ...  11750.0   4.0       1900.0   \n16296                Карелия  ...  12350.0   6.0       1380.0   \n16297   Белгородская область  ...   4915.0  10.0       2000.0   \n16298     Кабардино-Балкария  ...   5860.0   3.0       2000.0   \n16299              Татарстан  ...  15700.0   6.0       3000.0   \n\n                FAMILY_INCOME PERSONAL_INCOME AGREEMENT_RK TARGET  \\\n0      от 20000 до 50000 руб.         25000.0   60099204.0    1.0   \n1      от 10000 до 20000 руб.         10000.0   62244665.0    0.0   \n2      от 20000 до 50000 руб.         30000.0   61050759.0    0.0   \n3      от 20000 до 50000 руб.         25000.0   62079659.0    0.0   \n4      от 10000 до 20000 руб.         15000.0   66583553.0    0.0   \n...                       ...             ...          ...    ...   \n16295   от 5000 до 10000 руб.          8000.0   66751099.0    0.0   \n16296  от 20000 до 50000 руб.         12000.0   64562377.0    0.0   \n16297   от 5000 до 10000 руб.          9000.0   62236542.0    0.0   \n16298  от 10000 до 20000 руб.         12000.0   66739926.0    0.0   \n16299  от 10000 до 20000 руб.         10500.0   66077514.0    0.0   \n\n       LOAN_NUM_TOTAL_x  LOAN_NUM_TOTAL_y  LOAN_NUM_CLOSED  \n0                   1.0               1.0              1.0  \n1                   1.0               1.0              1.0  \n2                   1.0               1.0              1.0  \n3                   1.0               1.0              1.0  \n4                   2.0               2.0              2.0  \n...                 ...               ...              ...  \n16295               2.0               2.0              2.0  \n16296               1.0               1.0              1.0  \n16297               1.0               1.0              1.0  \n16298               1.0               1.0              1.0  \n16299               1.0               1.0              1.0  \n\n[16300 rows x 28 columns]",
      "text/html": "<div>\n<style scoped>\n    .dataframe tbody tr th:only-of-type {\n        vertical-align: middle;\n    }\n\n    .dataframe tbody tr th {\n        vertical-align: top;\n    }\n\n    .dataframe thead th {\n        text-align: right;\n    }\n</style>\n<table border=\"1\" class=\"dataframe\">\n  <thead>\n    <tr style=\"text-align: right;\">\n      <th></th>\n      <th>ID</th>\n      <th>AGE</th>\n      <th>GENDER</th>\n      <th>EDUCATION</th>\n      <th>MARITAL_STATUS</th>\n      <th>CHILD_TOTAL</th>\n      <th>DEPENDANTS</th>\n      <th>SOCSTATUS_WORK_FL</th>\n      <th>SOCSTATUS_PENS_FL</th>\n      <th>REG_ADDRESS_PROVINCE</th>\n      <th>...</th>\n      <th>CREDIT</th>\n      <th>TERM</th>\n      <th>FST_PAYMENT</th>\n      <th>FAMILY_INCOME</th>\n      <th>PERSONAL_INCOME</th>\n      <th>AGREEMENT_RK</th>\n      <th>TARGET</th>\n      <th>LOAN_NUM_TOTAL_x</th>\n      <th>LOAN_NUM_TOTAL_y</th>\n      <th>LOAN_NUM_CLOSED</th>\n    </tr>\n  </thead>\n  <tbody>\n    <tr>\n      <th>0</th>\n      <td>106805103</td>\n      <td>42</td>\n      <td>1</td>\n      <td>Среднее</td>\n      <td>Не состоял в браке</td>\n      <td>1</td>\n      <td>0</td>\n      <td>1</td>\n      <td>0</td>\n      <td>Московская область</td>\n      <td>...</td>\n      <td>5588.0</td>\n      <td>6.0</td>\n      <td>1000.0</td>\n      <td>от 20000 до 50000 руб.</td>\n      <td>25000.0</td>\n      <td>60099204.0</td>\n      <td>1.0</td>\n      <td>1.0</td>\n      <td>1.0</td>\n      <td>1.0</td>\n    </tr>\n    <tr>\n      <th>1</th>\n      <td>106809308</td>\n      <td>28</td>\n      <td>1</td>\n      <td>Среднее специальное</td>\n      <td>Состою в браке</td>\n      <td>1</td>\n      <td>1</td>\n      <td>1</td>\n      <td>0</td>\n      <td>Читинская область</td>\n      <td>...</td>\n      <td>19498.0</td>\n      <td>12.0</td>\n      <td>0.0</td>\n      <td>от 10000 до 20000 руб.</td>\n      <td>10000.0</td>\n      <td>62244665.0</td>\n      <td>0.0</td>\n      <td>1.0</td>\n      <td>1.0</td>\n      <td>1.0</td>\n    </tr>\n    <tr>\n      <th>2</th>\n      <td>106805867</td>\n      <td>64</td>\n      <td>0</td>\n      <td>Среднее специальное</td>\n      <td>Состою в браке</td>\n      <td>2</td>\n      <td>0</td>\n      <td>1</td>\n      <td>1</td>\n      <td>Иркутская область</td>\n      <td>...</td>\n      <td>15470.0</td>\n      <td>3.0</td>\n      <td>15000.0</td>\n      <td>от 20000 до 50000 руб.</td>\n      <td>30000.0</td>\n      <td>61050759.0</td>\n      <td>0.0</td>\n      <td>1.0</td>\n      <td>1.0</td>\n      <td>1.0</td>\n    </tr>\n    <tr>\n      <th>3</th>\n      <td>106808779</td>\n      <td>54</td>\n      <td>1</td>\n      <td>Среднее специальное</td>\n      <td>Состою в браке</td>\n      <td>0</td>\n      <td>0</td>\n      <td>1</td>\n      <td>0</td>\n      <td>Новосибирская область</td>\n      <td>...</td>\n      <td>13960.0</td>\n      <td>6.0</td>\n      <td>2500.0</td>\n      <td>от 20000 до 50000 руб.</td>\n      <td>25000.0</td>\n      <td>62079659.0</td>\n      <td>0.0</td>\n      <td>1.0</td>\n      <td>1.0</td>\n      <td>1.0</td>\n    </tr>\n    <tr>\n      <th>4</th>\n      <td>106814289</td>\n      <td>26</td>\n      <td>0</td>\n      <td>Среднее специальное</td>\n      <td>Состою в браке</td>\n      <td>1</td>\n      <td>1</td>\n      <td>1</td>\n      <td>0</td>\n      <td>Красноярский край</td>\n      <td>...</td>\n      <td>11890.0</td>\n      <td>6.0</td>\n      <td>8000.0</td>\n      <td>от 10000 до 20000 руб.</td>\n      <td>15000.0</td>\n      <td>66583553.0</td>\n      <td>0.0</td>\n      <td>2.0</td>\n      <td>2.0</td>\n      <td>2.0</td>\n    </tr>\n    <tr>\n      <th>...</th>\n      <td>...</td>\n      <td>...</td>\n      <td>...</td>\n      <td>...</td>\n      <td>...</td>\n      <td>...</td>\n      <td>...</td>\n      <td>...</td>\n      <td>...</td>\n      <td>...</td>\n      <td>...</td>\n      <td>...</td>\n      <td>...</td>\n      <td>...</td>\n      <td>...</td>\n      <td>...</td>\n      <td>...</td>\n      <td>...</td>\n      <td>...</td>\n      <td>...</td>\n      <td>...</td>\n    </tr>\n    <tr>\n      <th>16295</th>\n      <td>106814680</td>\n      <td>26</td>\n      <td>1</td>\n      <td>Среднее</td>\n      <td>Не состоял в браке</td>\n      <td>1</td>\n      <td>1</td>\n      <td>1</td>\n      <td>0</td>\n      <td>Чувашия</td>\n      <td>...</td>\n      <td>11750.0</td>\n      <td>4.0</td>\n      <td>1900.0</td>\n      <td>от 5000 до 10000 руб.</td>\n      <td>8000.0</td>\n      <td>66751099.0</td>\n      <td>0.0</td>\n      <td>2.0</td>\n      <td>2.0</td>\n      <td>2.0</td>\n    </tr>\n    <tr>\n      <th>16296</th>\n      <td>106812464</td>\n      <td>26</td>\n      <td>0</td>\n      <td>Среднее специальное</td>\n      <td>Состою в браке</td>\n      <td>0</td>\n      <td>0</td>\n      <td>1</td>\n      <td>0</td>\n      <td>Карелия</td>\n      <td>...</td>\n      <td>12350.0</td>\n      <td>6.0</td>\n      <td>1380.0</td>\n      <td>от 20000 до 50000 руб.</td>\n      <td>12000.0</td>\n      <td>64562377.0</td>\n      <td>0.0</td>\n      <td>1.0</td>\n      <td>1.0</td>\n      <td>1.0</td>\n    </tr>\n    <tr>\n      <th>16297</th>\n      <td>106809255</td>\n      <td>30</td>\n      <td>1</td>\n      <td>Среднее специальное</td>\n      <td>Не состоял в браке</td>\n      <td>0</td>\n      <td>0</td>\n      <td>1</td>\n      <td>0</td>\n      <td>Белгородская область</td>\n      <td>...</td>\n      <td>4915.0</td>\n      <td>10.0</td>\n      <td>2000.0</td>\n      <td>от 5000 до 10000 руб.</td>\n      <td>9000.0</td>\n      <td>62236542.0</td>\n      <td>0.0</td>\n      <td>1.0</td>\n      <td>1.0</td>\n      <td>1.0</td>\n    </tr>\n    <tr>\n      <th>16298</th>\n      <td>106814593</td>\n      <td>25</td>\n      <td>0</td>\n      <td>Среднее специальное</td>\n      <td>Состою в браке</td>\n      <td>0</td>\n      <td>0</td>\n      <td>1</td>\n      <td>0</td>\n      <td>Кабардино-Балкария</td>\n      <td>...</td>\n      <td>5860.0</td>\n      <td>3.0</td>\n      <td>2000.0</td>\n      <td>от 10000 до 20000 руб.</td>\n      <td>12000.0</td>\n      <td>66739926.0</td>\n      <td>0.0</td>\n      <td>1.0</td>\n      <td>1.0</td>\n      <td>1.0</td>\n    </tr>\n    <tr>\n      <th>16299</th>\n      <td>106813640</td>\n      <td>26</td>\n      <td>1</td>\n      <td>Высшее</td>\n      <td>Не состоял в браке</td>\n      <td>0</td>\n      <td>0</td>\n      <td>1</td>\n      <td>0</td>\n      <td>Татарстан</td>\n      <td>...</td>\n      <td>15700.0</td>\n      <td>6.0</td>\n      <td>3000.0</td>\n      <td>от 10000 до 20000 руб.</td>\n      <td>10500.0</td>\n      <td>66077514.0</td>\n      <td>0.0</td>\n      <td>1.0</td>\n      <td>1.0</td>\n      <td>1.0</td>\n    </tr>\n  </tbody>\n</table>\n<p>16300 rows × 28 columns</p>\n</div>"
     },
     "execution_count": 124,
     "metadata": {},
     "output_type": "execute_result"
    }
   ],
   "source": [
    "df_6 = pd.merge(\n",
    "    df_5,\n",
    "    loans_aggregated,\n",
    "    how='left', left_on='ID', right_on='ID_CLIENT'\n",
    ")\n",
    "df_6"
   ],
   "metadata": {
    "collapsed": false,
    "ExecuteTime": {
     "end_time": "2023-12-09T14:00:27.427286Z",
     "start_time": "2023-12-09T14:00:27.379101Z"
    }
   },
   "id": "70fc60f5ca9f7813"
  },
  {
   "cell_type": "code",
   "execution_count": 126,
   "outputs": [
    {
     "data": {
      "text/plain": "       AGE  GENDER  CHILD_TOTAL  DEPENDANTS  SOCSTATUS_WORK_FL  \\\n0       42       1            1           0                  1   \n1       28       1            1           1                  1   \n2       64       0            2           0                  1   \n3       54       1            0           0                  1   \n4       26       0            1           1                  1   \n...    ...     ...          ...         ...                ...   \n16295   26       1            1           1                  1   \n16296   26       0            0           0                  1   \n16297   30       1            0           0                  1   \n16298   25       0            0           0                  1   \n16299   26       1            0           0                  1   \n\n       SOCSTATUS_PENS_FL  PERSONAL_INCOME  AGREEMENT_RK  TARGET  \\\n0                      0          25000.0    60099204.0     1.0   \n1                      0          10000.0    62244665.0     0.0   \n2                      1          30000.0    61050759.0     0.0   \n3                      0          25000.0    62079659.0     0.0   \n4                      0          15000.0    66583553.0     0.0   \n...                  ...              ...           ...     ...   \n16295                  0           8000.0    66751099.0     0.0   \n16296                  0          12000.0    64562377.0     0.0   \n16297                  0           9000.0    62236542.0     0.0   \n16298                  0          12000.0    66739926.0     0.0   \n16299                  0          10500.0    66077514.0     0.0   \n\n       LOAN_NUM_TOTAL_x  LOAN_NUM_TOTAL_y  LOAN_NUM_CLOSED  \n0                   1.0               1.0              1.0  \n1                   1.0               1.0              1.0  \n2                   1.0               1.0              1.0  \n3                   1.0               1.0              1.0  \n4                   2.0               2.0              2.0  \n...                 ...               ...              ...  \n16295               2.0               2.0              2.0  \n16296               1.0               1.0              1.0  \n16297               1.0               1.0              1.0  \n16298               1.0               1.0              1.0  \n16299               1.0               1.0              1.0  \n\n[16300 rows x 12 columns]",
      "text/html": "<div>\n<style scoped>\n    .dataframe tbody tr th:only-of-type {\n        vertical-align: middle;\n    }\n\n    .dataframe tbody tr th {\n        vertical-align: top;\n    }\n\n    .dataframe thead th {\n        text-align: right;\n    }\n</style>\n<table border=\"1\" class=\"dataframe\">\n  <thead>\n    <tr style=\"text-align: right;\">\n      <th></th>\n      <th>AGE</th>\n      <th>GENDER</th>\n      <th>CHILD_TOTAL</th>\n      <th>DEPENDANTS</th>\n      <th>SOCSTATUS_WORK_FL</th>\n      <th>SOCSTATUS_PENS_FL</th>\n      <th>PERSONAL_INCOME</th>\n      <th>AGREEMENT_RK</th>\n      <th>TARGET</th>\n      <th>LOAN_NUM_TOTAL_x</th>\n      <th>LOAN_NUM_TOTAL_y</th>\n      <th>LOAN_NUM_CLOSED</th>\n    </tr>\n  </thead>\n  <tbody>\n    <tr>\n      <th>0</th>\n      <td>42</td>\n      <td>1</td>\n      <td>1</td>\n      <td>0</td>\n      <td>1</td>\n      <td>0</td>\n      <td>25000.0</td>\n      <td>60099204.0</td>\n      <td>1.0</td>\n      <td>1.0</td>\n      <td>1.0</td>\n      <td>1.0</td>\n    </tr>\n    <tr>\n      <th>1</th>\n      <td>28</td>\n      <td>1</td>\n      <td>1</td>\n      <td>1</td>\n      <td>1</td>\n      <td>0</td>\n      <td>10000.0</td>\n      <td>62244665.0</td>\n      <td>0.0</td>\n      <td>1.0</td>\n      <td>1.0</td>\n      <td>1.0</td>\n    </tr>\n    <tr>\n      <th>2</th>\n      <td>64</td>\n      <td>0</td>\n      <td>2</td>\n      <td>0</td>\n      <td>1</td>\n      <td>1</td>\n      <td>30000.0</td>\n      <td>61050759.0</td>\n      <td>0.0</td>\n      <td>1.0</td>\n      <td>1.0</td>\n      <td>1.0</td>\n    </tr>\n    <tr>\n      <th>3</th>\n      <td>54</td>\n      <td>1</td>\n      <td>0</td>\n      <td>0</td>\n      <td>1</td>\n      <td>0</td>\n      <td>25000.0</td>\n      <td>62079659.0</td>\n      <td>0.0</td>\n      <td>1.0</td>\n      <td>1.0</td>\n      <td>1.0</td>\n    </tr>\n    <tr>\n      <th>4</th>\n      <td>26</td>\n      <td>0</td>\n      <td>1</td>\n      <td>1</td>\n      <td>1</td>\n      <td>0</td>\n      <td>15000.0</td>\n      <td>66583553.0</td>\n      <td>0.0</td>\n      <td>2.0</td>\n      <td>2.0</td>\n      <td>2.0</td>\n    </tr>\n    <tr>\n      <th>...</th>\n      <td>...</td>\n      <td>...</td>\n      <td>...</td>\n      <td>...</td>\n      <td>...</td>\n      <td>...</td>\n      <td>...</td>\n      <td>...</td>\n      <td>...</td>\n      <td>...</td>\n      <td>...</td>\n      <td>...</td>\n    </tr>\n    <tr>\n      <th>16295</th>\n      <td>26</td>\n      <td>1</td>\n      <td>1</td>\n      <td>1</td>\n      <td>1</td>\n      <td>0</td>\n      <td>8000.0</td>\n      <td>66751099.0</td>\n      <td>0.0</td>\n      <td>2.0</td>\n      <td>2.0</td>\n      <td>2.0</td>\n    </tr>\n    <tr>\n      <th>16296</th>\n      <td>26</td>\n      <td>0</td>\n      <td>0</td>\n      <td>0</td>\n      <td>1</td>\n      <td>0</td>\n      <td>12000.0</td>\n      <td>64562377.0</td>\n      <td>0.0</td>\n      <td>1.0</td>\n      <td>1.0</td>\n      <td>1.0</td>\n    </tr>\n    <tr>\n      <th>16297</th>\n      <td>30</td>\n      <td>1</td>\n      <td>0</td>\n      <td>0</td>\n      <td>1</td>\n      <td>0</td>\n      <td>9000.0</td>\n      <td>62236542.0</td>\n      <td>0.0</td>\n      <td>1.0</td>\n      <td>1.0</td>\n      <td>1.0</td>\n    </tr>\n    <tr>\n      <th>16298</th>\n      <td>25</td>\n      <td>0</td>\n      <td>0</td>\n      <td>0</td>\n      <td>1</td>\n      <td>0</td>\n      <td>12000.0</td>\n      <td>66739926.0</td>\n      <td>0.0</td>\n      <td>1.0</td>\n      <td>1.0</td>\n      <td>1.0</td>\n    </tr>\n    <tr>\n      <th>16299</th>\n      <td>26</td>\n      <td>1</td>\n      <td>0</td>\n      <td>0</td>\n      <td>1</td>\n      <td>0</td>\n      <td>10500.0</td>\n      <td>66077514.0</td>\n      <td>0.0</td>\n      <td>1.0</td>\n      <td>1.0</td>\n      <td>1.0</td>\n    </tr>\n  </tbody>\n</table>\n<p>16300 rows × 12 columns</p>\n</div>"
     },
     "execution_count": 126,
     "metadata": {},
     "output_type": "execute_result"
    }
   ],
   "source": [
    "df_7 = df_6.drop(\n",
    "    [\n",
    "        'ID',\n",
    "        'EDUCATION',\n",
    "        'MARITAL_STATUS',\n",
    "        'REG_ADDRESS_PROVINCE',\n",
    "        'FACT_ADDRESS_PROVINCE',\n",
    "        'POSTAL_ADDRESS_PROVINCE',\n",
    "        'FL_PRESENCE_FL',\n",
    "        'OWN_AUTO',\n",
    "        'GEN_INDUSTRY',\n",
    "        'GEN_TITLE',\n",
    "        'JOB_DIR',\n",
    "        'WORK_TIME',\n",
    "        'CREDIT',\n",
    "        'TERM',\n",
    "        'FST_PAYMENT',\n",
    "        'FAMILY_INCOME'\n",
    "    ],\n",
    "    axis=1\n",
    ")\n",
    "df_7"
   ],
   "metadata": {
    "collapsed": false,
    "ExecuteTime": {
     "end_time": "2023-12-09T14:01:06.413920Z",
     "start_time": "2023-12-09T14:01:06.384278Z"
    }
   },
   "id": "63abdbac449dcea6"
  },
  {
   "cell_type": "code",
   "execution_count": 132,
   "outputs": [
    {
     "data": {
      "text/plain": "'Dropped 706 dublicates'"
     },
     "execution_count": 132,
     "metadata": {},
     "output_type": "execute_result"
    }
   ],
   "source": [
    "df_8 = df_7.drop_duplicates()\n",
    "f\"Dropped {df_7.shape[0] - df_8.shape[0]} dublicates\""
   ],
   "metadata": {
    "collapsed": false,
    "ExecuteTime": {
     "end_time": "2023-12-09T14:03:43.429435Z",
     "start_time": "2023-12-09T14:03:43.416614Z"
    }
   },
   "id": "20cbd545a94c62d8"
  },
  {
   "cell_type": "code",
   "execution_count": 142,
   "outputs": [
    {
     "data": {
      "text/plain": "'Dropped 371 N/A target rows'"
     },
     "execution_count": 142,
     "metadata": {},
     "output_type": "execute_result"
    }
   ],
   "source": [
    "df_9 = df_8.dropna(subset=['TARGET'])\n",
    "f\"Dropped {df_8.shape[0] - df_9.shape[0]} N/A target rows\""
   ],
   "metadata": {
    "collapsed": false,
    "ExecuteTime": {
     "end_time": "2023-12-09T14:07:05.765331Z",
     "start_time": "2023-12-09T14:07:05.749642Z"
    }
   },
   "id": "6f1d5d3c83644916"
  },
  {
   "cell_type": "code",
   "execution_count": 143,
   "outputs": [],
   "source": [
    "# TO add new processes, add code above + update number below"
   ],
   "metadata": {
    "collapsed": false,
    "ExecuteTime": {
     "end_time": "2023-12-09T14:07:21.459690Z",
     "start_time": "2023-12-09T14:07:21.451993Z"
    }
   },
   "id": "d45124b687d9bc7c"
  },
  {
   "cell_type": "code",
   "execution_count": 144,
   "outputs": [
    {
     "data": {
      "text/plain": "AGE                  False\nGENDER               False\nCHILD_TOTAL          False\nDEPENDANTS           False\nSOCSTATUS_WORK_FL    False\nSOCSTATUS_PENS_FL    False\nPERSONAL_INCOME      False\nAGREEMENT_RK         False\nTARGET               False\nLOAN_NUM_TOTAL_x     False\nLOAN_NUM_TOTAL_y     False\nLOAN_NUM_CLOSED      False\ndtype: bool"
     },
     "execution_count": 144,
     "metadata": {},
     "output_type": "execute_result"
    }
   ],
   "source": [
    "df_prepared = df_9\n",
    "\n",
    "assert not df_prepared.duplicated().any()\n",
    "\n",
    "df_prepared.isna().any()\n"
   ],
   "metadata": {
    "collapsed": false,
    "ExecuteTime": {
     "end_time": "2023-12-09T14:07:22.936137Z",
     "start_time": "2023-12-09T14:07:22.926846Z"
    }
   },
   "id": "12a5abd5460f8c02"
  },
  {
   "cell_type": "code",
   "execution_count": 145,
   "outputs": [
    {
     "name": "stdout",
     "output_type": "stream",
     "text": [
      "<class 'pandas.core.frame.DataFrame'>\n",
      "Index: 15223 entries, 0 to 16299\n",
      "Data columns (total 12 columns):\n",
      " #   Column             Non-Null Count  Dtype  \n",
      "---  ------             --------------  -----  \n",
      " 0   AGE                15223 non-null  int64  \n",
      " 1   GENDER             15223 non-null  int64  \n",
      " 2   CHILD_TOTAL        15223 non-null  int64  \n",
      " 3   DEPENDANTS         15223 non-null  int64  \n",
      " 4   SOCSTATUS_WORK_FL  15223 non-null  int64  \n",
      " 5   SOCSTATUS_PENS_FL  15223 non-null  int64  \n",
      " 6   PERSONAL_INCOME    15223 non-null  float64\n",
      " 7   AGREEMENT_RK       15223 non-null  float64\n",
      " 8   TARGET             15223 non-null  float64\n",
      " 9   LOAN_NUM_TOTAL_x   15223 non-null  float64\n",
      " 10  LOAN_NUM_TOTAL_y   15223 non-null  float64\n",
      " 11  LOAN_NUM_CLOSED    15223 non-null  float64\n",
      "dtypes: float64(6), int64(6)\n",
      "memory usage: 1.5 MB\n"
     ]
    }
   ],
   "source": [
    "# все числовое =)\n",
    "df_prepared.info()"
   ],
   "metadata": {
    "collapsed": false,
    "ExecuteTime": {
     "end_time": "2023-12-09T14:07:34.953436Z",
     "start_time": "2023-12-09T14:07:34.915966Z"
    }
   },
   "id": "b6272dc954bf81c3"
  },
  {
   "cell_type": "code",
   "execution_count": 146,
   "outputs": [],
   "source": [
    "df_prepared.to_csv('dataset.csv')"
   ],
   "metadata": {
    "collapsed": false,
    "ExecuteTime": {
     "end_time": "2023-12-09T14:08:21.030036Z",
     "start_time": "2023-12-09T14:08:20.934442Z"
    }
   },
   "id": "11afaf10c498697e"
  }
 ],
 "metadata": {
  "kernelspec": {
   "display_name": "Python 3",
   "language": "python",
   "name": "python3"
  },
  "language_info": {
   "codemirror_mode": {
    "name": "ipython",
    "version": 2
   },
   "file_extension": ".py",
   "mimetype": "text/x-python",
   "name": "python",
   "nbconvert_exporter": "python",
   "pygments_lexer": "ipython2",
   "version": "2.7.6"
  }
 },
 "nbformat": 4,
 "nbformat_minor": 5
}
